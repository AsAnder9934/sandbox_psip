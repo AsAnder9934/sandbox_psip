{
  "nbformat": 4,
  "nbformat_minor": 0,
  "metadata": {
    "colab": {
      "provenance": [],
      "authorship_tag": "ABX9TyPdNd0Z/A4hHjWq+bCoa/cP",
      "include_colab_link": true
    },
    "kernelspec": {
      "name": "python3",
      "display_name": "Python 3"
    },
    "language_info": {
      "name": "python"
    }
  },
  "cells": [
    {
      "cell_type": "markdown",
      "metadata": {
        "id": "view-in-github",
        "colab_type": "text"
      },
      "source": [
        "<a href=\"https://colab.research.google.com/github/AsAnder9934/sandbox_psip/blob/main/key_game.ipynb\" target=\"_parent\"><img src=\"https://colab.research.google.com/assets/colab-badge.svg\" alt=\"Open In Colab\"/></a>"
      ]
    },
    {
      "cell_type": "code",
      "execution_count": 4,
      "metadata": {
        "colab": {
          "base_uri": "https://localhost:8080/",
          "height": 860
        },
        "id": "3HaHOoHKz20F",
        "outputId": "9777074b-9a59-43f4-c50d-649eb3a2e25f"
      },
      "outputs": [
        {
          "output_type": "stream",
          "name": "stdout",
          "text": [
            "Poruszaj się za pomocą WSAD by znaleźć klucz \n",
            "Dokad idziesz? A\n",
            "Twoja aktualna pozycja X= 4 Y= 3\n",
            "Poruszaj się za pomocą WSAD by znaleźć klucz \n",
            "Dokad idziesz? A\n",
            "Twoja aktualna pozycja X= 4 Y= 3\n",
            "Poruszaj się za pomocą WSAD by znaleźć klucz \n",
            "Dokad idziesz? A\n",
            "Twoja aktualna pozycja X= 4 Y= 3\n",
            "Poruszaj się za pomocą WSAD by znaleźć klucz \n",
            "Dokad idziesz? A\n",
            "Twoja aktualna pozycja X= 4 Y= 3\n",
            "Poruszaj się za pomocą WSAD by znaleźć klucz \n",
            "Dokad idziesz? a\n",
            "Twoja aktualna pozycja X= 4 Y= 3\n",
            "Poruszaj się za pomocą WSAD by znaleźć klucz \n",
            "Dokad idziesz? a\n",
            "Twoja aktualna pozycja X= 4 Y= 3\n",
            "Poruszaj się za pomocą WSAD by znaleźć klucz \n",
            "Dokad idziesz? A\n",
            "Twoja aktualna pozycja X= 4 Y= 3\n",
            "Poruszaj się za pomocą WSAD by znaleźć klucz \n",
            "Dokad idziesz? s\n",
            "Twoja aktualna pozycja X= 3 Y= 3\n",
            "Poruszaj się za pomocą WSAD by znaleźć klucz \n"
          ]
        },
        {
          "output_type": "error",
          "ename": "KeyboardInterrupt",
          "evalue": "ignored",
          "traceback": [
            "\u001b[0;31m---------------------------------------------------------------------------\u001b[0m",
            "\u001b[0;31mKeyboardInterrupt\u001b[0m                         Traceback (most recent call last)",
            "\u001b[0;32m<ipython-input-4-50089b4f2043>\u001b[0m in \u001b[0;36m<cell line: 14>\u001b[0;34m()\u001b[0m\n\u001b[1;32m     15\u001b[0m   \u001b[0mprint\u001b[0m\u001b[0;34m(\u001b[0m\u001b[0;34m\"Poruszaj się za pomocą WSAD by znaleźć klucz \"\u001b[0m\u001b[0;34m)\u001b[0m\u001b[0;34m\u001b[0m\u001b[0;34m\u001b[0m\u001b[0m\n\u001b[1;32m     16\u001b[0m \u001b[0;34m\u001b[0m\u001b[0m\n\u001b[0;32m---> 17\u001b[0;31m   \u001b[0mmove\u001b[0m\u001b[0;34m=\u001b[0m\u001b[0minput\u001b[0m\u001b[0;34m(\u001b[0m\u001b[0;34m'Dokad idziesz? '\u001b[0m\u001b[0;34m)\u001b[0m\u001b[0;34m\u001b[0m\u001b[0;34m\u001b[0m\u001b[0m\n\u001b[0m\u001b[1;32m     18\u001b[0m   \u001b[0mmatch\u001b[0m \u001b[0mmove\u001b[0m\u001b[0;34m:\u001b[0m\u001b[0;34m\u001b[0m\u001b[0;34m\u001b[0m\u001b[0m\n\u001b[1;32m     19\u001b[0m     \u001b[0mcase\u001b[0m \u001b[0;34m'a'\u001b[0m \u001b[0;34m'A'\u001b[0m\u001b[0;34m:\u001b[0m\u001b[0;34m\u001b[0m\u001b[0;34m\u001b[0m\u001b[0m\n",
            "\u001b[0;32m/usr/local/lib/python3.10/dist-packages/ipykernel/kernelbase.py\u001b[0m in \u001b[0;36mraw_input\u001b[0;34m(self, prompt)\u001b[0m\n\u001b[1;32m    849\u001b[0m                 \u001b[0;34m\"raw_input was called, but this frontend does not support input requests.\"\u001b[0m\u001b[0;34m\u001b[0m\u001b[0;34m\u001b[0m\u001b[0m\n\u001b[1;32m    850\u001b[0m             )\n\u001b[0;32m--> 851\u001b[0;31m         return self._input_request(str(prompt),\n\u001b[0m\u001b[1;32m    852\u001b[0m             \u001b[0mself\u001b[0m\u001b[0;34m.\u001b[0m\u001b[0m_parent_ident\u001b[0m\u001b[0;34m,\u001b[0m\u001b[0;34m\u001b[0m\u001b[0;34m\u001b[0m\u001b[0m\n\u001b[1;32m    853\u001b[0m             \u001b[0mself\u001b[0m\u001b[0;34m.\u001b[0m\u001b[0m_parent_header\u001b[0m\u001b[0;34m,\u001b[0m\u001b[0;34m\u001b[0m\u001b[0;34m\u001b[0m\u001b[0m\n",
            "\u001b[0;32m/usr/local/lib/python3.10/dist-packages/ipykernel/kernelbase.py\u001b[0m in \u001b[0;36m_input_request\u001b[0;34m(self, prompt, ident, parent, password)\u001b[0m\n\u001b[1;32m    893\u001b[0m             \u001b[0;32mexcept\u001b[0m \u001b[0mKeyboardInterrupt\u001b[0m\u001b[0;34m:\u001b[0m\u001b[0;34m\u001b[0m\u001b[0;34m\u001b[0m\u001b[0m\n\u001b[1;32m    894\u001b[0m                 \u001b[0;31m# re-raise KeyboardInterrupt, to truncate traceback\u001b[0m\u001b[0;34m\u001b[0m\u001b[0;34m\u001b[0m\u001b[0m\n\u001b[0;32m--> 895\u001b[0;31m                 \u001b[0;32mraise\u001b[0m \u001b[0mKeyboardInterrupt\u001b[0m\u001b[0;34m(\u001b[0m\u001b[0;34m\"Interrupted by user\"\u001b[0m\u001b[0;34m)\u001b[0m \u001b[0;32mfrom\u001b[0m \u001b[0;32mNone\u001b[0m\u001b[0;34m\u001b[0m\u001b[0;34m\u001b[0m\u001b[0m\n\u001b[0m\u001b[1;32m    896\u001b[0m             \u001b[0;32mexcept\u001b[0m \u001b[0mException\u001b[0m \u001b[0;32mas\u001b[0m \u001b[0me\u001b[0m\u001b[0;34m:\u001b[0m\u001b[0;34m\u001b[0m\u001b[0;34m\u001b[0m\u001b[0m\n\u001b[1;32m    897\u001b[0m                 \u001b[0mself\u001b[0m\u001b[0;34m.\u001b[0m\u001b[0mlog\u001b[0m\u001b[0;34m.\u001b[0m\u001b[0mwarning\u001b[0m\u001b[0;34m(\u001b[0m\u001b[0;34m\"Invalid Message:\"\u001b[0m\u001b[0;34m,\u001b[0m \u001b[0mexc_info\u001b[0m\u001b[0;34m=\u001b[0m\u001b[0;32mTrue\u001b[0m\u001b[0;34m)\u001b[0m\u001b[0;34m\u001b[0m\u001b[0;34m\u001b[0m\u001b[0m\n",
            "\u001b[0;31mKeyboardInterrupt\u001b[0m: Interrupted by user"
          ]
        }
      ],
      "source": [
        "from random import randint\n",
        "\n",
        "width=10\n",
        "height=10\n",
        "\n",
        "key_x=randint(0,height)\n",
        "key_y=randint(0,width)\n",
        "\n",
        "player_x=randint(0,width)\n",
        "player_y=randint(0,height)\n",
        "\n",
        "player_foud_key=False\n",
        "\n",
        "while not player_foud_key:\n",
        "  print(\"Poruszaj się za pomocą wsad by znaleźć klucz \")\n",
        "\n",
        "  move=input('Dokad idziesz? ')\n",
        "  match move:\n",
        "    case 'a':\n",
        "      player_y -= 1\n",
        "    case 'd':\n",
        "      player_y += 1\n",
        "    case 'w':\n",
        "      player_x += 1\n",
        "    case 's':\n",
        "      player_x -= 1\n",
        "\n",
        "  print(f'Twoja aktualna pozycja X= {player_x} Y= {player_y}')\n",
        "\n"
      ]
    }
  ]
}