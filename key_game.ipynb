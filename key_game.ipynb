{
  "nbformat": 4,
  "nbformat_minor": 0,
  "metadata": {
    "colab": {
      "provenance": [],
      "authorship_tag": "ABX9TyPZqqwZ/zEizRSLVydzPtaJ",
      "include_colab_link": true
    },
    "kernelspec": {
      "name": "python3",
      "display_name": "Python 3"
    },
    "language_info": {
      "name": "python"
    }
  },
  "cells": [
    {
      "cell_type": "markdown",
      "metadata": {
        "id": "view-in-github",
        "colab_type": "text"
      },
      "source": [
        "<a href=\"https://colab.research.google.com/github/AsAnder9934/sandbox_psip/blob/main/key_game.ipynb\" target=\"_parent\"><img src=\"https://colab.research.google.com/assets/colab-badge.svg\" alt=\"Open In Colab\"/></a>"
      ]
    },
    {
      "cell_type": "code",
      "execution_count": 8,
      "metadata": {
        "id": "3HaHOoHKz20F"
      },
      "outputs": [],
      "source": [
        "from random import randint\n",
        "\n",
        "widht=10\n",
        "height=10\n",
        "\n",
        "key_x=randint(0,height)\n",
        "key_y=randint(0,widht)\n",
        "\n",
        "\n"
      ]
    }
  ]
}